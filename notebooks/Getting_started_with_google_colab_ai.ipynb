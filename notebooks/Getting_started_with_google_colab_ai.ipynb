{
  "cells": [
    {
      "cell_type": "code",
      "source": [
        "import tensorflow as tf\n",
        "import matplotlib.pyplot as plt\n",
        "\n"
      ],
      "metadata": {
        "id": "hCihBkL5THRf"
      },
      "execution_count": null,
      "outputs": []
    },
    {
      "cell_type": "code",
      "source": [
        "sentences = ['cat chases mouse',\n",
        "             'cat catches mouse',\n",
        "             'cat eats mouse',\n",
        "             'mouse runs into hole',\n",
        "             'cat says bad words',\n",
        "             'cat and mouse are pals',\n",
        "             'cat and mouse are chums',\n",
        "             'mouse stores food in hole',\n",
        "             'cat stores food in house',\n",
        "             'mouse sleep in hole']\n",
        "\n",
        "\n",
        "\n"
      ],
      "metadata": {
        "id": "-WpPOvSkVONy"
      },
      "execution_count": null,
      "outputs": []
    },
    {
      "cell_type": "code",
      "source": [
        "def get_vocab(data):\n",
        "  i=1\n",
        "  word2idx = dict()\n",
        "  idx2word = {0: '<PAD>'}\n",
        "  temp = set()\n",
        "\n",
        "  for sentence in sentences:\n",
        "    for word in sentence.split():\n",
        "      if word not in temp:\n",
        "        temp.add(word)\n",
        "        word2idx[word] = i\n",
        "        idxword[i]=word\n",
        "        i += 1\n",
        "  return i, word2idx, idx2word\n",
        "\n",
        "vocab_size, word2idx, 1dx2word = get_vocab(sentences)"
      ],
      "metadata": {
        "id": "zACYuLB_VaMQ"
      },
      "execution_count": null,
      "outputs": []
    },
    {
      "cell_type": "code",
      "source": [
        "vocab_size"
      ],
      "metadata": {
        "id": "XUdOES_8W2eY"
      },
      "execution_count": null,
      "outputs": []
    }
  ],
  "metadata": {
    "colab": {
      "provenance": []
    },
    "kernelspec": {
      "name": "python3",
      "display_name": "Python 3"
    },
    "language_info": {
      "name": "python"
    }
  },
  "nbformat": 4,
  "nbformat_minor": 0
}